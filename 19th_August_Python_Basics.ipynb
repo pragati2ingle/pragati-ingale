{
 "cells": [
  {
   "cell_type": "code",
   "execution_count": 4,
   "id": "fa82cdd7-e041-4618-bb72-e5b889d79601",
   "metadata": {},
   "outputs": [
    {
     "name": "stdout",
     "output_type": "stream",
     "text": [
      "After swapping:\n",
      "x = 10\n",
      "y = 5\n"
     ]
    }
   ],
   "source": [
    "x = 5\n",
    "y = 10\n",
    "\n",
    "x = x + y\n",
    "y = x - y\n",
    "x = x - y\n",
    "\n",
    "print(\"After swapping:\")\n",
    "print(\"x =\", x)\n",
    "print(\"y =\", y)\n"
   ]
  },
  {
   "cell_type": "code",
   "execution_count": 12,
   "id": "673a94e3-d0ce-4268-848b-a87e248a3a6b",
   "metadata": {},
   "outputs": [
    {
     "name": "stdin",
     "output_type": "stream",
     "text": [
      " 12\n",
      " 23\n"
     ]
    },
    {
     "name": "stdout",
     "output_type": "stream",
     "text": [
      "area of rectangle 276.0\n"
     ]
    }
   ],
   "source": [
    "Lenth=float(input())\n",
    "width=float(input())\n",
    "area=Lenth*width\n",
    "print(\"area of rectangle\",area)\n",
    "\n"
   ]
  },
  {
   "cell_type": "code",
   "execution_count": 22,
   "id": "eab5358b-14e5-4855-a738-49241315131b",
   "metadata": {},
   "outputs": [
    {
     "name": "stdin",
     "output_type": "stream",
     "text": [
      "enter the temperature in celcius 45\n"
     ]
    },
    {
     "name": "stdout",
     "output_type": "stream",
     "text": [
      "temperature in farhenheit is: 113.0\n"
     ]
    }
   ],
   "source": [
    "celcius_temperature=float(input(\"enter the temperature in celcius\"))\n",
    "fahrenheit_temperature = (celcius_temperature * 9/5) + 32\n",
    "\n",
    "print (\"temperature in farhenheit is:\",fahrenheit_temperature)"
   ]
  },
  {
   "cell_type": "code",
   "execution_count": 25,
   "id": "c864841c-1bb6-4f4f-a924-69c5dabceeed",
   "metadata": {},
   "outputs": [
    {
     "name": "stdin",
     "output_type": "stream",
     "text": [
      "Enter a string: pragati\n"
     ]
    },
    {
     "name": "stdout",
     "output_type": "stream",
     "text": [
      "The length of the string is: 7\n"
     ]
    }
   ],
   "source": [
    "user_input=input(\"Enter a string:\")\n",
    "lenth_of_string= len(user_input)\n",
    "print(\"The length of the string is:\",lenth_of_string)\n"
   ]
  },
  {
   "cell_type": "code",
   "execution_count": 12,
   "id": "eb067099-f767-4b3f-947f-caae333691f0",
   "metadata": {},
   "outputs": [
    {
     "name": "stdin",
     "output_type": "stream",
     "text": [
      "enter a sentence: i love you\n"
     ]
    },
    {
     "name": "stdout",
     "output_type": "stream",
     "text": [
      "Number of vowels in the sentence: 5\n"
     ]
    }
   ],
   "source": [
    "user_sentence=input(\"enter a sentence:\")\n",
    "vowel_count=0\n",
    "vowels=set(\"aeiouAEIOU\")\n",
    "for char in user_sentence:\n",
    "  if char in vowels:\n",
    "    vowel_count+=1\n",
    "print(\"Number of vowels in the sentence:\", vowel_count)"
   ]
  },
  {
   "cell_type": "code",
   "execution_count": 18,
   "id": "4ae376c2-d8f3-4792-8eb4-06b7650fea83",
   "metadata": {},
   "outputs": [
    {
     "name": "stdin",
     "output_type": "stream",
     "text": [
      "enter the string: akshay\n"
     ]
    },
    {
     "name": "stdout",
     "output_type": "stream",
     "text": [
      "reverse string: yahska\n"
     ]
    }
   ],
   "source": [
    "User_string=input(\"enter the string:\")\n",
    "reversed_string= User_string[ : :-1 ]\n",
    "print(\"reverse string:\",reversed_string)\n"
   ]
  },
  {
   "cell_type": "code",
   "execution_count": 20,
   "id": "ffdac858-6998-46f1-9019-5b1b3c36b315",
   "metadata": {},
   "outputs": [
    {
     "name": "stdin",
     "output_type": "stream",
     "text": [
      "enter a string pragati\n"
     ]
    },
    {
     "name": "stdout",
     "output_type": "stream",
     "text": [
      "The entered string is not a palidrome.\n"
     ]
    }
   ],
   "source": [
    "user_input=input(\"enter a string\")\n",
    "cleaned_input=user_input.replace(\" \",\"\").lower()\n",
    "is_palindrome=cleaned_input==cleaned_input[::-1]\n",
    "if is_palindrome:\n",
    "    print(\"The entered string is a palindrome.\")\n",
    "else:\n",
    "    print(\"The entered string is not a palidrome.\")"
   ]
  },
  {
   "cell_type": "code",
   "execution_count": 22,
   "id": "164ed69f-6b00-444b-89bc-ad2c5cd15334",
   "metadata": {},
   "outputs": [
    {
     "name": "stdin",
     "output_type": "stream",
     "text": [
      "Enter a string:  pragati akshay thool\n"
     ]
    },
    {
     "name": "stdout",
     "output_type": "stream",
     "text": [
      "Modified string without spaces: pragatiakshaythool\n"
     ]
    }
   ],
   "source": [
    "user_input = input(\"Enter a string: \")\n",
    "modified_string = user_input.replace(\" \", \"\")\n",
    "print(\"Modified string without spaces:\", modified_string)\n",
    "\n"
   ]
  },
  {
   "cell_type": "code",
   "execution_count": null,
   "id": "5d081e4f-6d39-4d0a-84a0-c201a2cfaf51",
   "metadata": {},
   "outputs": [],
   "source": []
  }
 ],
 "metadata": {
  "kernelspec": {
   "display_name": "Python 3 (ipykernel)",
   "language": "python",
   "name": "python3"
  },
  "language_info": {
   "codemirror_mode": {
    "name": "ipython",
    "version": 3
   },
   "file_extension": ".py",
   "mimetype": "text/x-python",
   "name": "python",
   "nbconvert_exporter": "python",
   "pygments_lexer": "ipython3",
   "version": "3.10.8"
  }
 },
 "nbformat": 4,
 "nbformat_minor": 5
}
